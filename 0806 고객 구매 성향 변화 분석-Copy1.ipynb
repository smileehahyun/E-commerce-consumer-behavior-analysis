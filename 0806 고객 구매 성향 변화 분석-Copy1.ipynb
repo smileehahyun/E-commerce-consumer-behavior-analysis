{
 "cells": [
  {
   "cell_type": "code",
   "execution_count": 1,
   "id": "60a4710e-81c2-4c06-a3bf-21a7f4a06dc6",
   "metadata": {},
   "outputs": [],
   "source": [
    "import pandas as pd"
   ]
  },
  {
   "cell_type": "code",
   "execution_count": 7,
   "id": "fe0d44b7-327f-4a0c-829a-109cf7a762ab",
   "metadata": {},
   "outputs": [],
   "source": [
    "df_transaction = pd.read_csv('/Users/hapresent/Desktop/데이터톤/0806/transaction_customer_pricelabel.csv')"
   ]
  },
  {
   "cell_type": "code",
   "execution_count": 9,
   "id": "3ccf1fd9-8106-4a31-9e8c-6785e522412e",
   "metadata": {},
   "outputs": [
    {
     "data": {
      "text/html": [
       "<div>\n",
       "<style scoped>\n",
       "    .dataframe tbody tr th:only-of-type {\n",
       "        vertical-align: middle;\n",
       "    }\n",
       "\n",
       "    .dataframe tbody tr th {\n",
       "        vertical-align: top;\n",
       "    }\n",
       "\n",
       "    .dataframe thead th {\n",
       "        text-align: right;\n",
       "    }\n",
       "</style>\n",
       "<table border=\"1\" class=\"dataframe\">\n",
       "  <thead>\n",
       "    <tr style=\"text-align: right;\">\n",
       "      <th></th>\n",
       "      <th>customer_id</th>\n",
       "      <th>dominant_price_label</th>\n",
       "      <th>count</th>\n",
       "    </tr>\n",
       "  </thead>\n",
       "  <tbody>\n",
       "    <tr>\n",
       "      <th>0</th>\n",
       "      <td>43202</td>\n",
       "      <td>middle price</td>\n",
       "      <td>405</td>\n",
       "    </tr>\n",
       "    <tr>\n",
       "      <th>1</th>\n",
       "      <td>29496</td>\n",
       "      <td>middle price</td>\n",
       "      <td>382</td>\n",
       "    </tr>\n",
       "    <tr>\n",
       "      <th>2</th>\n",
       "      <td>82237</td>\n",
       "      <td>middle price</td>\n",
       "      <td>346</td>\n",
       "    </tr>\n",
       "    <tr>\n",
       "      <th>3</th>\n",
       "      <td>10167</td>\n",
       "      <td>middle price</td>\n",
       "      <td>340</td>\n",
       "    </tr>\n",
       "    <tr>\n",
       "      <th>4</th>\n",
       "      <td>69740</td>\n",
       "      <td>middle price</td>\n",
       "      <td>327</td>\n",
       "    </tr>\n",
       "    <tr>\n",
       "      <th>...</th>\n",
       "      <td>...</td>\n",
       "      <td>...</td>\n",
       "      <td>...</td>\n",
       "    </tr>\n",
       "    <tr>\n",
       "      <th>50237</th>\n",
       "      <td>24769</td>\n",
       "      <td>middle price</td>\n",
       "      <td>1</td>\n",
       "    </tr>\n",
       "    <tr>\n",
       "      <th>50238</th>\n",
       "      <td>82253</td>\n",
       "      <td>middle price</td>\n",
       "      <td>1</td>\n",
       "    </tr>\n",
       "    <tr>\n",
       "      <th>50239</th>\n",
       "      <td>24774</td>\n",
       "      <td>middle price</td>\n",
       "      <td>1</td>\n",
       "    </tr>\n",
       "    <tr>\n",
       "      <th>50240</th>\n",
       "      <td>82251</td>\n",
       "      <td>high price</td>\n",
       "      <td>1</td>\n",
       "    </tr>\n",
       "    <tr>\n",
       "      <th>50241</th>\n",
       "      <td>99999</td>\n",
       "      <td>low price</td>\n",
       "      <td>1</td>\n",
       "    </tr>\n",
       "  </tbody>\n",
       "</table>\n",
       "<p>50242 rows × 3 columns</p>\n",
       "</div>"
      ],
      "text/plain": [
       "       customer_id dominant_price_label  count\n",
       "0            43202         middle price    405\n",
       "1            29496         middle price    382\n",
       "2            82237         middle price    346\n",
       "3            10167         middle price    340\n",
       "4            69740         middle price    327\n",
       "...            ...                  ...    ...\n",
       "50237        24769         middle price      1\n",
       "50238        82253         middle price      1\n",
       "50239        24774         middle price      1\n",
       "50240        82251           high price      1\n",
       "50241        99999            low price      1\n",
       "\n",
       "[50242 rows x 3 columns]"
      ]
     },
     "execution_count": 9,
     "metadata": {},
     "output_type": "execute_result"
    }
   ],
   "source": [
    "df_transaction"
   ]
  },
  {
   "cell_type": "code",
   "execution_count": 43,
   "id": "2f2559b3-76e0-4982-82b6-195f12578b81",
   "metadata": {},
   "outputs": [
    {
     "data": {
      "text/plain": [
       "50242"
      ]
     },
     "execution_count": 43,
     "metadata": {},
     "output_type": "execute_result"
    }
   ],
   "source": [
    "df_transaction['customer_id'].nunique()"
   ]
  },
  {
   "cell_type": "code",
   "execution_count": 11,
   "id": "14626e56-5faf-4355-8560-126abe346d52",
   "metadata": {},
   "outputs": [],
   "source": [
    "df_add_to_cart = pd.read_csv('/Users/hapresent/Desktop/데이터톤/0806/add_to_cart_customerprice_label.csv')"
   ]
  },
  {
   "cell_type": "code",
   "execution_count": 13,
   "id": "011e579c-ec8d-478c-8a20-199d34f68e6b",
   "metadata": {},
   "outputs": [
    {
     "data": {
      "text/html": [
       "<div>\n",
       "<style scoped>\n",
       "    .dataframe tbody tr th:only-of-type {\n",
       "        vertical-align: middle;\n",
       "    }\n",
       "\n",
       "    .dataframe tbody tr th {\n",
       "        vertical-align: top;\n",
       "    }\n",
       "\n",
       "    .dataframe thead th {\n",
       "        text-align: right;\n",
       "    }\n",
       "</style>\n",
       "<table border=\"1\" class=\"dataframe\">\n",
       "  <thead>\n",
       "    <tr style=\"text-align: right;\">\n",
       "      <th></th>\n",
       "      <th>customer_id</th>\n",
       "      <th>cart_price_label</th>\n",
       "      <th>count</th>\n",
       "    </tr>\n",
       "  </thead>\n",
       "  <tbody>\n",
       "    <tr>\n",
       "      <th>0</th>\n",
       "      <td>3.0</td>\n",
       "      <td>middle price</td>\n",
       "      <td>84</td>\n",
       "    </tr>\n",
       "    <tr>\n",
       "      <th>1</th>\n",
       "      <td>8.0</td>\n",
       "      <td>middle price</td>\n",
       "      <td>9</td>\n",
       "    </tr>\n",
       "    <tr>\n",
       "      <th>2</th>\n",
       "      <td>9.0</td>\n",
       "      <td>middle price</td>\n",
       "      <td>10</td>\n",
       "    </tr>\n",
       "    <tr>\n",
       "      <th>3</th>\n",
       "      <td>11.0</td>\n",
       "      <td>low price</td>\n",
       "      <td>2</td>\n",
       "    </tr>\n",
       "    <tr>\n",
       "      <th>4</th>\n",
       "      <td>15.0</td>\n",
       "      <td>middle price</td>\n",
       "      <td>11</td>\n",
       "    </tr>\n",
       "    <tr>\n",
       "      <th>...</th>\n",
       "      <td>...</td>\n",
       "      <td>...</td>\n",
       "      <td>...</td>\n",
       "    </tr>\n",
       "    <tr>\n",
       "      <th>50699</th>\n",
       "      <td>99992.0</td>\n",
       "      <td>middle price</td>\n",
       "      <td>14</td>\n",
       "    </tr>\n",
       "    <tr>\n",
       "      <th>50700</th>\n",
       "      <td>99995.0</td>\n",
       "      <td>middle price</td>\n",
       "      <td>37</td>\n",
       "    </tr>\n",
       "    <tr>\n",
       "      <th>50701</th>\n",
       "      <td>99997.0</td>\n",
       "      <td>middle price</td>\n",
       "      <td>3</td>\n",
       "    </tr>\n",
       "    <tr>\n",
       "      <th>50702</th>\n",
       "      <td>99998.0</td>\n",
       "      <td>middle price</td>\n",
       "      <td>16</td>\n",
       "    </tr>\n",
       "    <tr>\n",
       "      <th>50703</th>\n",
       "      <td>99999.0</td>\n",
       "      <td>high price</td>\n",
       "      <td>6</td>\n",
       "    </tr>\n",
       "  </tbody>\n",
       "</table>\n",
       "<p>50704 rows × 3 columns</p>\n",
       "</div>"
      ],
      "text/plain": [
       "       customer_id cart_price_label  count\n",
       "0              3.0     middle price     84\n",
       "1              8.0     middle price      9\n",
       "2              9.0     middle price     10\n",
       "3             11.0        low price      2\n",
       "4             15.0     middle price     11\n",
       "...            ...              ...    ...\n",
       "50699      99992.0     middle price     14\n",
       "50700      99995.0     middle price     37\n",
       "50701      99997.0     middle price      3\n",
       "50702      99998.0     middle price     16\n",
       "50703      99999.0       high price      6\n",
       "\n",
       "[50704 rows x 3 columns]"
      ]
     },
     "execution_count": 13,
     "metadata": {},
     "output_type": "execute_result"
    }
   ],
   "source": [
    "df_add_to_cart"
   ]
  },
  {
   "cell_type": "code",
   "execution_count": 45,
   "id": "98de43f2-3ffb-4605-9ce3-ecfbea61607e",
   "metadata": {},
   "outputs": [
    {
     "data": {
      "text/plain": [
       "50704"
      ]
     },
     "execution_count": 45,
     "metadata": {},
     "output_type": "execute_result"
    }
   ],
   "source": [
    "df_add_to_cart['customer_id'].nunique()"
   ]
  },
  {
   "cell_type": "code",
   "execution_count": 51,
   "id": "c0927813-d0a6-4895-af18-3253d106f09a",
   "metadata": {},
   "outputs": [],
   "source": [
    "df_merge = pd.merge(\n",
    "    df_add_to_cart[['customer_id', 'cart_price_label']],\n",
    "    df_transaction[['customer_id', 'dominant_price_label']],\n",
    "    on='customer_id',\n",
    "    how='right'\n",
    ")\n"
   ]
  },
  {
   "cell_type": "code",
   "execution_count": 57,
   "id": "e7dc22b9-745b-43d0-ac78-c1cf47103f41",
   "metadata": {},
   "outputs": [],
   "source": [
    "#결제 성공 고객에 한해 장바구니 구매 성향 데이터 병합"
   ]
  },
  {
   "cell_type": "code",
   "execution_count": 55,
   "id": "f8fe7c1f-86cb-4d47-9fb6-3972ce54e239",
   "metadata": {},
   "outputs": [
    {
     "data": {
      "text/html": [
       "<div>\n",
       "<style scoped>\n",
       "    .dataframe tbody tr th:only-of-type {\n",
       "        vertical-align: middle;\n",
       "    }\n",
       "\n",
       "    .dataframe tbody tr th {\n",
       "        vertical-align: top;\n",
       "    }\n",
       "\n",
       "    .dataframe thead th {\n",
       "        text-align: right;\n",
       "    }\n",
       "</style>\n",
       "<table border=\"1\" class=\"dataframe\">\n",
       "  <thead>\n",
       "    <tr style=\"text-align: right;\">\n",
       "      <th></th>\n",
       "      <th>customer_id</th>\n",
       "      <th>cart_price_label</th>\n",
       "      <th>dominant_price_label</th>\n",
       "    </tr>\n",
       "  </thead>\n",
       "  <tbody>\n",
       "    <tr>\n",
       "      <th>0</th>\n",
       "      <td>43202.0</td>\n",
       "      <td>middle price</td>\n",
       "      <td>middle price</td>\n",
       "    </tr>\n",
       "    <tr>\n",
       "      <th>1</th>\n",
       "      <td>29496.0</td>\n",
       "      <td>middle price</td>\n",
       "      <td>middle price</td>\n",
       "    </tr>\n",
       "    <tr>\n",
       "      <th>2</th>\n",
       "      <td>82237.0</td>\n",
       "      <td>middle price</td>\n",
       "      <td>middle price</td>\n",
       "    </tr>\n",
       "    <tr>\n",
       "      <th>3</th>\n",
       "      <td>10167.0</td>\n",
       "      <td>middle price</td>\n",
       "      <td>middle price</td>\n",
       "    </tr>\n",
       "    <tr>\n",
       "      <th>4</th>\n",
       "      <td>69740.0</td>\n",
       "      <td>middle price</td>\n",
       "      <td>middle price</td>\n",
       "    </tr>\n",
       "    <tr>\n",
       "      <th>...</th>\n",
       "      <td>...</td>\n",
       "      <td>...</td>\n",
       "      <td>...</td>\n",
       "    </tr>\n",
       "    <tr>\n",
       "      <th>50237</th>\n",
       "      <td>24769.0</td>\n",
       "      <td>middle price</td>\n",
       "      <td>middle price</td>\n",
       "    </tr>\n",
       "    <tr>\n",
       "      <th>50238</th>\n",
       "      <td>82253.0</td>\n",
       "      <td>middle price</td>\n",
       "      <td>middle price</td>\n",
       "    </tr>\n",
       "    <tr>\n",
       "      <th>50239</th>\n",
       "      <td>24774.0</td>\n",
       "      <td>middle price</td>\n",
       "      <td>middle price</td>\n",
       "    </tr>\n",
       "    <tr>\n",
       "      <th>50240</th>\n",
       "      <td>82251.0</td>\n",
       "      <td>high price</td>\n",
       "      <td>high price</td>\n",
       "    </tr>\n",
       "    <tr>\n",
       "      <th>50241</th>\n",
       "      <td>99999.0</td>\n",
       "      <td>high price</td>\n",
       "      <td>low price</td>\n",
       "    </tr>\n",
       "  </tbody>\n",
       "</table>\n",
       "<p>50242 rows × 3 columns</p>\n",
       "</div>"
      ],
      "text/plain": [
       "       customer_id cart_price_label dominant_price_label\n",
       "0          43202.0     middle price         middle price\n",
       "1          29496.0     middle price         middle price\n",
       "2          82237.0     middle price         middle price\n",
       "3          10167.0     middle price         middle price\n",
       "4          69740.0     middle price         middle price\n",
       "...            ...              ...                  ...\n",
       "50237      24769.0     middle price         middle price\n",
       "50238      82253.0     middle price         middle price\n",
       "50239      24774.0     middle price         middle price\n",
       "50240      82251.0       high price           high price\n",
       "50241      99999.0       high price            low price\n",
       "\n",
       "[50242 rows x 3 columns]"
      ]
     },
     "execution_count": 55,
     "metadata": {},
     "output_type": "execute_result"
    }
   ],
   "source": [
    "df_merge"
   ]
  },
  {
   "cell_type": "code",
   "execution_count": 59,
   "id": "795595b9-d671-4e4c-9652-e8f3039359cd",
   "metadata": {},
   "outputs": [],
   "source": [
    "df_merge.rename(columns={\n",
    "    'dominant_price_label': 'transaction_price_label'\n",
    "}, inplace=True)\n"
   ]
  },
  {
   "cell_type": "code",
   "execution_count": 63,
   "id": "6b3cd29e-279f-4cca-b04b-38993b10805b",
   "metadata": {},
   "outputs": [
    {
     "data": {
      "text/html": [
       "<div>\n",
       "<style scoped>\n",
       "    .dataframe tbody tr th:only-of-type {\n",
       "        vertical-align: middle;\n",
       "    }\n",
       "\n",
       "    .dataframe tbody tr th {\n",
       "        vertical-align: top;\n",
       "    }\n",
       "\n",
       "    .dataframe thead th {\n",
       "        text-align: right;\n",
       "    }\n",
       "</style>\n",
       "<table border=\"1\" class=\"dataframe\">\n",
       "  <thead>\n",
       "    <tr style=\"text-align: right;\">\n",
       "      <th></th>\n",
       "      <th>customer_id</th>\n",
       "      <th>cart_price_label</th>\n",
       "      <th>transaction_price_label</th>\n",
       "    </tr>\n",
       "  </thead>\n",
       "  <tbody>\n",
       "    <tr>\n",
       "      <th>0</th>\n",
       "      <td>43202.0</td>\n",
       "      <td>middle price</td>\n",
       "      <td>middle price</td>\n",
       "    </tr>\n",
       "    <tr>\n",
       "      <th>1</th>\n",
       "      <td>29496.0</td>\n",
       "      <td>middle price</td>\n",
       "      <td>middle price</td>\n",
       "    </tr>\n",
       "    <tr>\n",
       "      <th>2</th>\n",
       "      <td>82237.0</td>\n",
       "      <td>middle price</td>\n",
       "      <td>middle price</td>\n",
       "    </tr>\n",
       "    <tr>\n",
       "      <th>3</th>\n",
       "      <td>10167.0</td>\n",
       "      <td>middle price</td>\n",
       "      <td>middle price</td>\n",
       "    </tr>\n",
       "    <tr>\n",
       "      <th>4</th>\n",
       "      <td>69740.0</td>\n",
       "      <td>middle price</td>\n",
       "      <td>middle price</td>\n",
       "    </tr>\n",
       "    <tr>\n",
       "      <th>...</th>\n",
       "      <td>...</td>\n",
       "      <td>...</td>\n",
       "      <td>...</td>\n",
       "    </tr>\n",
       "    <tr>\n",
       "      <th>50237</th>\n",
       "      <td>24769.0</td>\n",
       "      <td>middle price</td>\n",
       "      <td>middle price</td>\n",
       "    </tr>\n",
       "    <tr>\n",
       "      <th>50238</th>\n",
       "      <td>82253.0</td>\n",
       "      <td>middle price</td>\n",
       "      <td>middle price</td>\n",
       "    </tr>\n",
       "    <tr>\n",
       "      <th>50239</th>\n",
       "      <td>24774.0</td>\n",
       "      <td>middle price</td>\n",
       "      <td>middle price</td>\n",
       "    </tr>\n",
       "    <tr>\n",
       "      <th>50240</th>\n",
       "      <td>82251.0</td>\n",
       "      <td>high price</td>\n",
       "      <td>high price</td>\n",
       "    </tr>\n",
       "    <tr>\n",
       "      <th>50241</th>\n",
       "      <td>99999.0</td>\n",
       "      <td>high price</td>\n",
       "      <td>low price</td>\n",
       "    </tr>\n",
       "  </tbody>\n",
       "</table>\n",
       "<p>50242 rows × 3 columns</p>\n",
       "</div>"
      ],
      "text/plain": [
       "       customer_id cart_price_label transaction_price_label\n",
       "0          43202.0     middle price            middle price\n",
       "1          29496.0     middle price            middle price\n",
       "2          82237.0     middle price            middle price\n",
       "3          10167.0     middle price            middle price\n",
       "4          69740.0     middle price            middle price\n",
       "...            ...              ...                     ...\n",
       "50237      24769.0     middle price            middle price\n",
       "50238      82253.0     middle price            middle price\n",
       "50239      24774.0     middle price            middle price\n",
       "50240      82251.0       high price              high price\n",
       "50241      99999.0       high price               low price\n",
       "\n",
       "[50242 rows x 3 columns]"
      ]
     },
     "execution_count": 63,
     "metadata": {},
     "output_type": "execute_result"
    }
   ],
   "source": [
    "df_merge\n",
    "#customer_id : 고객 id\n",
    "#cart_price_label: 장바구니 구매 성향\n",
    "#transaction_price_label : 결제 기반 구매 성향 "
   ]
  },
  {
   "cell_type": "code",
   "execution_count": 67,
   "id": "c2b1afbc-84d8-4fb6-831b-96922bd44ab8",
   "metadata": {},
   "outputs": [
    {
     "data": {
      "text/plain": [
       "True"
      ]
     },
     "execution_count": 67,
     "metadata": {},
     "output_type": "execute_result"
    }
   ],
   "source": [
    "51844 in df_merge['customer_id'].values\n"
   ]
  },
  {
   "cell_type": "code",
   "execution_count": 69,
   "id": "59bdcff8-f6e7-4fc1-a6c3-eff232314df7",
   "metadata": {},
   "outputs": [
    {
     "data": {
      "text/html": [
       "<div>\n",
       "<style scoped>\n",
       "    .dataframe tbody tr th:only-of-type {\n",
       "        vertical-align: middle;\n",
       "    }\n",
       "\n",
       "    .dataframe tbody tr th {\n",
       "        vertical-align: top;\n",
       "    }\n",
       "\n",
       "    .dataframe thead th {\n",
       "        text-align: right;\n",
       "    }\n",
       "</style>\n",
       "<table border=\"1\" class=\"dataframe\">\n",
       "  <thead>\n",
       "    <tr style=\"text-align: right;\">\n",
       "      <th></th>\n",
       "      <th>customer_id</th>\n",
       "      <th>cart_price_label</th>\n",
       "      <th>transaction_price_label</th>\n",
       "      <th>label_changed</th>\n",
       "    </tr>\n",
       "  </thead>\n",
       "  <tbody>\n",
       "    <tr>\n",
       "      <th>30523</th>\n",
       "      <td>51844.0</td>\n",
       "      <td>NaN</td>\n",
       "      <td>middle price</td>\n",
       "      <td>True</td>\n",
       "    </tr>\n",
       "  </tbody>\n",
       "</table>\n",
       "</div>"
      ],
      "text/plain": [
       "       customer_id cart_price_label transaction_price_label  label_changed\n",
       "30523      51844.0              NaN            middle price           True"
      ]
     },
     "execution_count": 69,
     "metadata": {},
     "output_type": "execute_result"
    }
   ],
   "source": [
    "df_merge[df_merge['customer_id'] == 51844]\n"
   ]
  },
  {
   "cell_type": "code",
   "execution_count": 71,
   "id": "12dea1e0-dafe-437b-a956-9595e8ab4840",
   "metadata": {},
   "outputs": [],
   "source": [
    "df_merge = df_merge[df_merge['customer_id'] != 51844]"
   ]
  },
  {
   "cell_type": "code",
   "execution_count": 75,
   "id": "edf36868-fc60-4675-84ac-f01ad31acd51",
   "metadata": {},
   "outputs": [
    {
     "data": {
      "text/html": [
       "<div>\n",
       "<style scoped>\n",
       "    .dataframe tbody tr th:only-of-type {\n",
       "        vertical-align: middle;\n",
       "    }\n",
       "\n",
       "    .dataframe tbody tr th {\n",
       "        vertical-align: top;\n",
       "    }\n",
       "\n",
       "    .dataframe thead th {\n",
       "        text-align: right;\n",
       "    }\n",
       "</style>\n",
       "<table border=\"1\" class=\"dataframe\">\n",
       "  <thead>\n",
       "    <tr style=\"text-align: right;\">\n",
       "      <th></th>\n",
       "      <th>customer_id</th>\n",
       "      <th>cart_price_label</th>\n",
       "      <th>transaction_price_label</th>\n",
       "      <th>label_changed</th>\n",
       "    </tr>\n",
       "  </thead>\n",
       "  <tbody>\n",
       "    <tr>\n",
       "      <th>0</th>\n",
       "      <td>43202.0</td>\n",
       "      <td>middle price</td>\n",
       "      <td>middle price</td>\n",
       "      <td>False</td>\n",
       "    </tr>\n",
       "    <tr>\n",
       "      <th>1</th>\n",
       "      <td>29496.0</td>\n",
       "      <td>middle price</td>\n",
       "      <td>middle price</td>\n",
       "      <td>False</td>\n",
       "    </tr>\n",
       "    <tr>\n",
       "      <th>2</th>\n",
       "      <td>82237.0</td>\n",
       "      <td>middle price</td>\n",
       "      <td>middle price</td>\n",
       "      <td>False</td>\n",
       "    </tr>\n",
       "    <tr>\n",
       "      <th>3</th>\n",
       "      <td>10167.0</td>\n",
       "      <td>middle price</td>\n",
       "      <td>middle price</td>\n",
       "      <td>False</td>\n",
       "    </tr>\n",
       "    <tr>\n",
       "      <th>4</th>\n",
       "      <td>69740.0</td>\n",
       "      <td>middle price</td>\n",
       "      <td>middle price</td>\n",
       "      <td>False</td>\n",
       "    </tr>\n",
       "    <tr>\n",
       "      <th>...</th>\n",
       "      <td>...</td>\n",
       "      <td>...</td>\n",
       "      <td>...</td>\n",
       "      <td>...</td>\n",
       "    </tr>\n",
       "    <tr>\n",
       "      <th>50237</th>\n",
       "      <td>24769.0</td>\n",
       "      <td>middle price</td>\n",
       "      <td>middle price</td>\n",
       "      <td>False</td>\n",
       "    </tr>\n",
       "    <tr>\n",
       "      <th>50238</th>\n",
       "      <td>82253.0</td>\n",
       "      <td>middle price</td>\n",
       "      <td>middle price</td>\n",
       "      <td>False</td>\n",
       "    </tr>\n",
       "    <tr>\n",
       "      <th>50239</th>\n",
       "      <td>24774.0</td>\n",
       "      <td>middle price</td>\n",
       "      <td>middle price</td>\n",
       "      <td>False</td>\n",
       "    </tr>\n",
       "    <tr>\n",
       "      <th>50240</th>\n",
       "      <td>82251.0</td>\n",
       "      <td>high price</td>\n",
       "      <td>high price</td>\n",
       "      <td>False</td>\n",
       "    </tr>\n",
       "    <tr>\n",
       "      <th>50241</th>\n",
       "      <td>99999.0</td>\n",
       "      <td>high price</td>\n",
       "      <td>low price</td>\n",
       "      <td>True</td>\n",
       "    </tr>\n",
       "  </tbody>\n",
       "</table>\n",
       "<p>50241 rows × 4 columns</p>\n",
       "</div>"
      ],
      "text/plain": [
       "       customer_id cart_price_label transaction_price_label  label_changed\n",
       "0          43202.0     middle price            middle price          False\n",
       "1          29496.0     middle price            middle price          False\n",
       "2          82237.0     middle price            middle price          False\n",
       "3          10167.0     middle price            middle price          False\n",
       "4          69740.0     middle price            middle price          False\n",
       "...            ...              ...                     ...            ...\n",
       "50237      24769.0     middle price            middle price          False\n",
       "50238      82253.0     middle price            middle price          False\n",
       "50239      24774.0     middle price            middle price          False\n",
       "50240      82251.0       high price              high price          False\n",
       "50241      99999.0       high price               low price           True\n",
       "\n",
       "[50241 rows x 4 columns]"
      ]
     },
     "execution_count": 75,
     "metadata": {},
     "output_type": "execute_result"
    }
   ],
   "source": [
    "df_merge"
   ]
  },
  {
   "cell_type": "code",
   "execution_count": 79,
   "id": "8c4d951d-ba83-465a-93d1-9cbc40e745fa",
   "metadata": {},
   "outputs": [],
   "source": [
    "df_merge.to_csv('/Users/hapresent/Desktop/데이터톤/0806/customer_price_label_change.csv',index=False)"
   ]
  },
  {
   "cell_type": "code",
   "execution_count": 98,
   "id": "9048b637-287e-402e-827b-c242684c0bcd",
   "metadata": {},
   "outputs": [
    {
     "data": {
      "image/png": "[encoded data removed]",
      "text/plain": [
       "<Figure size 500x500 with 1 Axes>"
      ]
     },
     "metadata": {},
     "output_type": "display_data"
    }
   ],
   "source": [
    "import matplotlib.pyplot as plt\n",
    "from matplotlib import rc  \n",
    "rc('font', family='AppleGothic') \t\t\t\n",
    "plt.rcParams['axes.unicode_minus'] = False \n",
    "\n",
    "label_counts = df_merge['label_changed'].value_counts()\n",
    "\n",
    "plt.figure(figsize=(5, 5))\n",
    "plt.pie(label_counts, labels=['유지', '변화'], autopct='%.1f%%', startangle=90, colors=['#4caf50', '#f44336'])\n",
    "plt.title('고객의 구매 성향 변화 여부')\n",
    "plt.show()\n"
   ]
  },
  {
   "cell_type": "code",
   "execution_count": 100,
   "id": "26c28b86-0e33-4159-8623-31e1c952cbb0",
   "metadata": {},
   "outputs": [
    {
     "data": {
      "image/png": "[encoded data removed]",
      "text/plain": [
       "<Figure size 800x600 with 2 Axes>"
      ]
     },
     "metadata": {},
     "output_type": "display_data"
    }
   ],
   "source": [
    "import seaborn as sns\n",
    "import pandas as pd\n",
    "import matplotlib.pyplot as plt\n",
    "\n",
    "# 교차표 생성\n",
    "pivot = pd.crosstab(df_merge['cart_price_label'], df_merge['transaction_price_label'])\n",
    "\n",
    "# 히트맵 시각화\n",
    "plt.figure(figsize=(8, 6))\n",
    "sns.heatmap(pivot, annot=True, fmt='d', cmap='YlGnBu')\n",
    "plt.title('장바구니 → 결제 가격 성향 흐름')\n",
    "plt.xlabel('결제 가격 성향')\n",
    "plt.ylabel('장바구니 가격 성향')\n",
    "plt.show()\n"
   ]
  },
  {
   "cell_type": "code",
   "execution_count": 102,
   "id": "003f1c4f-cb9f-4f1b-ac23-80aa3f9b4b8f",
   "metadata": {},
   "outputs": [
    {
     "data": {
      "image/png": "[encoded data removed]",
      "text/plain": [
       "<Figure size 1000x500 with 1 Axes>"
      ]
     },
     "metadata": {},
     "output_type": "display_data"
    }
   ],
   "source": [
    "changed = df_merge[df_merge['label_changed']]\n",
    "\n",
    "change_paths = changed.groupby(\n",
    "    ['cart_price_label', 'transaction_price_label']\n",
    ").size().reset_index(name='count')\n",
    "\n",
    "# 막대그래프\n",
    "plt.figure(figsize=(10, 5))\n",
    "sns.barplot(data=change_paths, x='cart_price_label', y='count', hue='transaction_price_label')\n",
    "plt.title('성향이 바뀐 고객의 변화 경로')\n",
    "plt.xlabel('장바구니 가격 성향')\n",
    "plt.ylabel('고객 수')\n",
    "plt.legend(title='결제 가격 성향')\n",
    "plt.show()\n"
   ]
  },
  {
   "cell_type": "code",
   "execution_count": 108,
   "id": "4de83548-e2c3-4f71-83c9-913b1fb46d0c",
   "metadata": {},
   "outputs": [
    {
     "data": {
      "image/png": "[encoded data removed]",
      "text/plain": [
       "<Figure size 800x600 with 2 Axes>"
      ]
     },
     "metadata": {},
     "output_type": "display_data"
    }
   ],
   "source": [
    "# 행 기준 비율\n",
    "pivot_ratio = pivot.div(pivot.sum(axis=1), axis=0)\n",
    "\n",
    "plt.figure(figsize=(8, 6))\n",
    "sns.heatmap(pivot_ratio, annot=True, fmt='.2%', cmap='Oranges')\n",
    "plt.title('장바구니 → 결제 가격 성향 (비율 기준)')\n",
    "plt.xlabel('결제 가격 성향')\n",
    "plt.ylabel('장바구니 가격 성향')\n",
    "plt.show()\n"
   ]
  },
  {
   "cell_type": "code",
   "execution_count": null,
   "id": "c818c1f6-fb11-4f9c-b96f-dfea2504a8bf",
   "metadata": {},
   "outputs": [],
   "source": []
  },
  {
   "cell_type": "code",
   "execution_count": null,
   "id": "bc8f9368-8698-4bf4-9c7d-dc857ad59a80",
   "metadata": {},
   "outputs": [],
   "source": []
  }
 ],
 "metadata": {
  "kernelspec": {
   "display_name": "Python [conda env:anaconda3]",
   "language": "python",
   "name": "conda-env-anaconda3-py"
  },
  "language_info": {
   "codemirror_mode": {
    "name": "ipython",
    "version": 3
   },
   "file_extension": ".py",
   "mimetype": "text/x-python",
   "name": "python",
   "nbconvert_exporter": "python",
   "pygments_lexer": "ipython3",
   "version": "3.12.7"
  }
 },
 "nbformat": 4,
 "nbformat_minor": 5
}
